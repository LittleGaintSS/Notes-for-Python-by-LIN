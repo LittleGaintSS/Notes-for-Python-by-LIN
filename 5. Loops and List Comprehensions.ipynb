{
 "cells": [
  {
   "cell_type": "markdown",
   "id": "a1e5ec0b",
   "metadata": {},
   "source": [
    "## Loops\n",
    "\n",
    "Loops are a way to repeatedly execute some code. Here's an example:\n"
   ]
  },
  {
   "cell_type": "code",
   "execution_count": 1,
   "id": "c0a1c690",
   "metadata": {},
   "outputs": [
    {
     "name": "stdout",
     "output_type": "stream",
     "text": [
      "Mercury Venus Earth Mars Jupiter Saturn Uranus Neptune "
     ]
    }
   ],
   "source": [
    "planets = ['Mercury', 'Venus', 'Earth', 'Mars', 'Jupiter', 'Saturn', 'Uranus', 'Neptune']\n",
    "for planet in planets:\n",
    "    print(planet, end=' ') # print all on same line"
   ]
  },
  {
   "cell_type": "markdown",
   "id": "db2d4276",
   "metadata": {},
   "source": [
    "The for loop specifies\n",
    "\n",
    "* the variable name to use (in this case, planet)\n",
    "\n",
    "* the set of values to loop over (in this case, planets)\n",
    "\n",
    "You use the word **in** to link them together.\n",
    "\n",
    "The object to the right of the \"in\" can be any object that supports iteration. Basically, if it can be thought of as a group of things, you can probably loop over it. In addition to lists, we can iterate over the elements of a tuple:"
   ]
  },
  {
   "cell_type": "code",
   "execution_count": 2,
   "id": "65f41913",
   "metadata": {},
   "outputs": [
    {
     "data": {
      "text/plain": [
       "360"
      ]
     },
     "execution_count": 2,
     "metadata": {},
     "output_type": "execute_result"
    }
   ],
   "source": [
    "multiplicands = (2, 2, 2, 3, 3, 5)\n",
    "product = 1\n",
    "for mult in multiplicands:\n",
    "    product = product * mult\n",
    "product"
   ]
  },
  {
   "cell_type": "markdown",
   "id": "89f358cd",
   "metadata": {},
   "source": [
    "You can even loop through each character in a string:"
   ]
  },
  {
   "cell_type": "code",
   "execution_count": 3,
   "id": "352387de",
   "metadata": {},
   "outputs": [
    {
     "name": "stdout",
     "output_type": "stream",
     "text": [
      "HELLO"
     ]
    }
   ],
   "source": [
    "s = 'steganograpHy is the practicE of conceaLing a file, message, image, or video within another fiLe, message, image, Or video.'\n",
    "msg = ''\n",
    "# print all the uppercase letters in s, one at a time\n",
    "for char in s:\n",
    "    if char.isupper():\n",
    "        print(char, end='')      "
   ]
  },
  {
   "cell_type": "markdown",
   "id": "2cefff0e",
   "metadata": {},
   "source": [
    "### range()"
   ]
  },
  {
   "cell_type": "markdown",
   "id": "00f02af5",
   "metadata": {},
   "source": [
    "range() is a function that returns a sequence of numbers. It turns out to be very useful for writing loops.\n",
    "\n",
    "For example, if we want to repeat some action 5 times:"
   ]
  },
  {
   "cell_type": "code",
   "execution_count": 4,
   "id": "9ffdf8ce",
   "metadata": {},
   "outputs": [
    {
     "name": "stdout",
     "output_type": "stream",
     "text": [
      "Doing important work. i = 0\n",
      "Doing important work. i = 1\n",
      "Doing important work. i = 2\n",
      "Doing important work. i = 3\n",
      "Doing important work. i = 4\n"
     ]
    }
   ],
   "source": [
    "for i in range(5):\n",
    "    print(\"Doing important work. i =\", i)"
   ]
  },
  {
   "cell_type": "markdown",
   "id": "adaf0ebe",
   "metadata": {},
   "source": [
    "### while loops\n",
    "\n",
    "The other type of loop in Python is a while loop, which iterates until some condition is met:"
   ]
  },
  {
   "cell_type": "code",
   "execution_count": 5,
   "id": "e1bbf95f",
   "metadata": {},
   "outputs": [
    {
     "name": "stdout",
     "output_type": "stream",
     "text": [
      "0 1 2 3 4 5 6 7 8 9 "
     ]
    }
   ],
   "source": [
    "i = 0\n",
    "while i < 10:\n",
    "    print(i, end=' ')\n",
    "    i += 1 # increase the value of i by 1"
   ]
  },
  {
   "cell_type": "markdown",
   "id": "a1710440",
   "metadata": {},
   "source": [
    "The argument of the while loop is evaluated as a boolean statement, and the loop is executed until the statement evaluates to False."
   ]
  },
  {
   "cell_type": "markdown",
   "id": "3eaeeedc",
   "metadata": {},
   "source": [
    "## List comprehensions\n",
    "\n",
    "List comprehensions are one of Python's most beloved and unique features. The easiest way to understand them is probably to just look at a few examples:"
   ]
  },
  {
   "cell_type": "code",
   "execution_count": 6,
   "id": "448a1d46",
   "metadata": {},
   "outputs": [
    {
     "data": {
      "text/plain": [
       "[0, 1, 4, 9, 16, 25, 36, 49, 64, 81]"
      ]
     },
     "execution_count": 6,
     "metadata": {},
     "output_type": "execute_result"
    }
   ],
   "source": [
    "squares = [n**2 for n in range(10)]\n",
    "squares"
   ]
  },
  {
   "cell_type": "markdown",
   "id": "d30e2084",
   "metadata": {},
   "source": [
    "Here's how we would do the same thing without a list comprehension:"
   ]
  },
  {
   "cell_type": "code",
   "execution_count": 7,
   "id": "61aff7a5",
   "metadata": {},
   "outputs": [
    {
     "data": {
      "text/plain": [
       "[0, 1, 4, 9, 16, 25, 36, 49, 64, 81]"
      ]
     },
     "execution_count": 7,
     "metadata": {},
     "output_type": "execute_result"
    }
   ],
   "source": [
    "squares = []\n",
    "for n in range(10):\n",
    "    squares.append(n**2)\n",
    "squares"
   ]
  },
  {
   "cell_type": "markdown",
   "id": "759b41c4",
   "metadata": {},
   "source": [
    "We can also add an **if** condition:"
   ]
  },
  {
   "cell_type": "code",
   "execution_count": 9,
   "id": "d104d2a4",
   "metadata": {},
   "outputs": [
    {
     "data": {
      "text/plain": [
       "['Venus', 'Earth', 'Mars']"
      ]
     },
     "execution_count": 9,
     "metadata": {},
     "output_type": "execute_result"
    }
   ],
   "source": [
    "short_planets = [planet for planet in planets if len(planet) < 6]\n",
    "short_planets"
   ]
  },
  {
   "cell_type": "markdown",
   "id": "7efd3304",
   "metadata": {},
   "source": [
    "(If you're familiar with SQL, you might think of this as being like a \"WHERE\" clause)\n",
    "\n",
    "Here's an example of filtering with an if condition and applying some transformation to the loop variable:"
   ]
  },
  {
   "cell_type": "code",
   "execution_count": 10,
   "id": "3455df06",
   "metadata": {},
   "outputs": [
    {
     "data": {
      "text/plain": [
       "['VENUS!', 'EARTH!', 'MARS!']"
      ]
     },
     "execution_count": 10,
     "metadata": {},
     "output_type": "execute_result"
    }
   ],
   "source": [
    "# str.upper() returns an all-caps version of a string\n",
    "loud_short_planets = [planet.upper() + '!' for planet in planets if len(planet) < 6]\n",
    "loud_short_planets"
   ]
  },
  {
   "cell_type": "markdown",
   "id": "f5554809",
   "metadata": {},
   "source": [
    "People usually write these on a single line, but you might find the structure clearer when it's split up over 3 lines:"
   ]
  },
  {
   "cell_type": "code",
   "execution_count": 11,
   "id": "9f56cbc1",
   "metadata": {},
   "outputs": [
    {
     "data": {
      "text/plain": [
       "['VENUS!', 'EARTH!', 'MARS!']"
      ]
     },
     "execution_count": 11,
     "metadata": {},
     "output_type": "execute_result"
    }
   ],
   "source": [
    "[\n",
    "    planet.upper() + '!' \n",
    "    for planet in planets \n",
    "    if len(planet) < 6\n",
    "]"
   ]
  },
  {
   "cell_type": "markdown",
   "id": "2dce892d",
   "metadata": {},
   "source": [
    "(Continuing the SQL analogy, you could think of these three lines as SELECT, FROM, and WHERE)\n",
    "\n",
    "The expression on the left doesn't technically have to involve the loop variable (though it'd be pretty unusual for it not to). What do you think the expression below will evaluate to? Press the 'output' button to check."
   ]
  },
  {
   "cell_type": "code",
   "execution_count": 12,
   "id": "64b8b825",
   "metadata": {},
   "outputs": [
    {
     "data": {
      "text/plain": [
       "[32, 32, 32, 32, 32, 32, 32, 32]"
      ]
     },
     "execution_count": 12,
     "metadata": {},
     "output_type": "execute_result"
    }
   ],
   "source": [
    "[32 for planet in planets]"
   ]
  },
  {
   "cell_type": "markdown",
   "id": "c5ef043d",
   "metadata": {},
   "source": [
    "List comprehensions combined with functions like min, max, and sum can lead to impressive one-line solutions for problems that would otherwise require several lines of code.\n",
    "\n",
    "For example, compare the following two cells of code that do the same thing."
   ]
  },
  {
   "cell_type": "code",
   "execution_count": 13,
   "id": "cd185a8a",
   "metadata": {},
   "outputs": [],
   "source": [
    "def count_negatives(nums):\n",
    "    \"\"\"Return the number of negative numbers in the given list.\n",
    "    \n",
    "    >>> count_negatives([5, -1, -2, 0, 3])\n",
    "    2\n",
    "    \"\"\"\n",
    "    n_negative = 0\n",
    "    for num in nums:\n",
    "        if num < 0:\n",
    "            n_negative = n_negative + 1\n",
    "    return n_negative"
   ]
  },
  {
   "cell_type": "markdown",
   "id": "b08c5ebe",
   "metadata": {},
   "source": [
    "Here's a solution using a list comprehension:"
   ]
  },
  {
   "cell_type": "code",
   "execution_count": 14,
   "id": "64d6c47b",
   "metadata": {},
   "outputs": [],
   "source": [
    "def count_negatives(nums):\n",
    "    return len([num for num in nums if num < 0])"
   ]
  },
  {
   "cell_type": "markdown",
   "id": "f5434d26",
   "metadata": {},
   "source": [
    "Much better, right?\n",
    "\n",
    "Well if all we care about is minimizing the length of our code, this third solution is better still!"
   ]
  },
  {
   "cell_type": "code",
   "execution_count": 15,
   "id": "2f9aeaa9",
   "metadata": {},
   "outputs": [],
   "source": [
    "def count_negatives(nums):\n",
    "    # Reminder: in the \"booleans and conditionals\" exercises, we learned about a quirk of \n",
    "    # Python where it calculates something like True + True + False + True to be equal to 3.\n",
    "    return sum([num < 0 for num in nums])\n"
   ]
  },
  {
   "cell_type": "markdown",
   "id": "ff2efb92",
   "metadata": {},
   "source": [
    "Which of these solutions is the \"best\" is entirely subjective. Solving a problem with less code is always nice, but it's worth keeping in mind the following lines from The Zen of Python:\n",
    "\n",
    "Readability counts.\n",
    "Explicit is better than implicit.\n",
    "\n",
    "So, use these tools to make compact readable programs. But when you have to choose, favor code that is easy for others to understand."
   ]
  },
  {
   "cell_type": "markdown",
   "id": "482653c5",
   "metadata": {},
   "source": [
    "## Exercises"
   ]
  },
  {
   "cell_type": "code",
   "execution_count": 4,
   "id": "341c581e",
   "metadata": {},
   "outputs": [
    {
     "ename": "ModuleNotFoundError",
     "evalue": "No module named 'learntools'",
     "output_type": "error",
     "traceback": [
      "\u001b[1;31m---------------------------------------------------------------------------\u001b[0m",
      "\u001b[1;31mModuleNotFoundError\u001b[0m                       Traceback (most recent call last)",
      "\u001b[1;32mC:\\Users\\V_SSHE~1\\AppData\\Local\\Temp/ipykernel_2748/2488046264.py\u001b[0m in \u001b[0;36m<module>\u001b[1;34m\u001b[0m\n\u001b[1;32m----> 1\u001b[1;33m \u001b[1;32mfrom\u001b[0m \u001b[0mlearntools\u001b[0m\u001b[1;33m.\u001b[0m\u001b[0mcore\u001b[0m \u001b[1;32mimport\u001b[0m \u001b[0mbinder\u001b[0m\u001b[1;33m;\u001b[0m \u001b[0mbinder\u001b[0m\u001b[1;33m.\u001b[0m\u001b[0mbind\u001b[0m\u001b[1;33m(\u001b[0m\u001b[0mglobals\u001b[0m\u001b[1;33m(\u001b[0m\u001b[1;33m)\u001b[0m\u001b[1;33m)\u001b[0m\u001b[1;33m\u001b[0m\u001b[1;33m\u001b[0m\u001b[0m\n\u001b[0m\u001b[0;32m      2\u001b[0m \u001b[1;32mfrom\u001b[0m \u001b[0mlearntools\u001b[0m\u001b[1;33m.\u001b[0m\u001b[0mpython\u001b[0m\u001b[1;33m.\u001b[0m\u001b[0mex5\u001b[0m \u001b[1;32mimport\u001b[0m \u001b[1;33m*\u001b[0m\u001b[1;33m\u001b[0m\u001b[1;33m\u001b[0m\u001b[0m\n\u001b[0;32m      3\u001b[0m \u001b[0mprint\u001b[0m\u001b[1;33m(\u001b[0m\u001b[1;34m'Setup complete.'\u001b[0m\u001b[1;33m)\u001b[0m\u001b[1;33m\u001b[0m\u001b[1;33m\u001b[0m\u001b[0m\n",
      "\u001b[1;31mModuleNotFoundError\u001b[0m: No module named 'learntools'"
     ]
    }
   ],
   "source": [
    "from learntools.core import binder; binder.bind(globals())\n",
    "from learntools.python.ex5 import * \n",
    "print('Setup complete.')"
   ]
  },
  {
   "cell_type": "markdown",
   "id": "70ffa1c2",
   "metadata": {},
   "source": [
    "### 1\n",
    "\n",
    "Have you ever felt debugging involved a bit of luck? The following program has a bug. Try to identify the bug and fix it."
   ]
  },
  {
   "cell_type": "code",
   "execution_count": null,
   "id": "3dec3b32",
   "metadata": {},
   "outputs": [],
   "source": [
    "def has_lucky_number(nums):\n",
    "    \"\"\"Return whether the given list of numbers is lucky. A lucky list contains\n",
    "    at least one number divisible by 7.\n",
    "    \"\"\"\n",
    "    counter=0\n",
    "    if nums==[]: \n",
    "        return False\n",
    "    else:\n",
    "        for num in nums:\n",
    "            if  num % 7 == 0:\n",
    "                counter+=1 \n",
    "            else:\n",
    "                counter=0\n",
    "        return True if counter>0 else Fasle\n",
    "\n",
    "nums=[7]\n",
    "print(has_lucky_number(nums))"
   ]
  },
  {
   "cell_type": "markdown",
   "id": "79d41c2c",
   "metadata": {},
   "source": [
    "### Correct answer:"
   ]
  },
  {
   "cell_type": "code",
   "execution_count": 16,
   "id": "3051eac1",
   "metadata": {},
   "outputs": [
    {
     "name": "stdout",
     "output_type": "stream",
     "text": [
      "1\n",
      "True\n"
     ]
    }
   ],
   "source": [
    "def has_lucky_number(nums):\n",
    "    \"\"\"Return whether the given list of numbers is lucky. A lucky list contains\n",
    "    at least one number divisible by 7.\n",
    "    \"\"\"\n",
    "    counter=0\n",
    "    i=0\n",
    "    if nums==[]: \n",
    "        return False\n",
    "    else:\n",
    "        while i < len(nums):\n",
    "            if  nums[i] % 7 == 0:\n",
    "                counter+=1\n",
    "                i+=1  \n",
    "            else:\n",
    "                counter=counter+0\n",
    "                i+=1  \n",
    "            \n",
    "        print(counter)   \n",
    "        return True if counter>0 else False\n",
    "\n",
    "nums=[3,21,4]\n",
    "print(has_lucky_number(nums))"
   ]
  },
  {
   "cell_type": "code",
   "execution_count": 18,
   "id": "616cf629",
   "metadata": {},
   "outputs": [
    {
     "name": "stdout",
     "output_type": "stream",
     "text": [
      "True\n"
     ]
    }
   ],
   "source": [
    "def has_lucky_number(nums):\n",
    "    for num in nums:\n",
    "        if num % 7 == 0:\n",
    "            return True\n",
    "    # We've exhausted the list without finding a lucky number\n",
    "    return False\n",
    "\n",
    "nums=[3,21,4]\n",
    "print(has_lucky_number(nums))"
   ]
  },
  {
   "cell_type": "code",
   "execution_count": 19,
   "id": "e9740d71",
   "metadata": {},
   "outputs": [
    {
     "name": "stdout",
     "output_type": "stream",
     "text": [
      "True\n"
     ]
    }
   ],
   "source": [
    "def has_lucky_number(nums):\n",
    "    return any([num % 7 == 0 for num in nums])\n",
    "\n",
    "nums=[3,21,4]\n",
    "print(has_lucky_number(nums))"
   ]
  },
  {
   "cell_type": "markdown",
   "id": "6e8106d9",
   "metadata": {},
   "source": [
    "## 2\n",
    "\n",
    "Look at the Python expression below. What do you think we'll get when we run it? When you've made your prediction, uncomment the code and run the cell to see if you were right."
   ]
  },
  {
   "cell_type": "code",
   "execution_count": 20,
   "id": "1ed600d9",
   "metadata": {},
   "outputs": [
    {
     "data": {
      "text/plain": [
       "True"
      ]
     },
     "execution_count": 20,
     "metadata": {},
     "output_type": "execute_result"
    }
   ],
   "source": [
    "bool(1)"
   ]
  },
  {
   "cell_type": "markdown",
   "id": "c7dbd700",
   "metadata": {},
   "source": [
    "## 3 "
   ]
  },
  {
   "cell_type": "code",
   "execution_count": 2,
   "id": "b382c1af",
   "metadata": {},
   "outputs": [
    {
     "data": {
      "text/plain": [
       "False"
      ]
     },
     "execution_count": 2,
     "metadata": {},
     "output_type": "execute_result"
    }
   ],
   "source": [
    "def menu_is_boring(meals):\n",
    "    \"\"\"Given a list of meals served over some period of time, return True if the\n",
    "    same meal has ever been served two days in a row, and False otherwise.\n",
    "    \"\"\"\n",
    "    # use any([... for ... in ... ] )\n",
    "    return True if any([meals[i]==meals[i+1] for i in range(0,len(meals)-1) ]) else False\n",
    "\n",
    "\n",
    "meals=['Spam', 'Eggs', 'Bacon', 'Spam']\n",
    "menu_is_boring(meals)        "
   ]
  },
  {
   "cell_type": "markdown",
   "id": "fe2ad373",
   "metadata": {},
   "source": [
    "### Ways to remove duplicates from list\n",
    "\n"
   ]
  },
  {
   "cell_type": "markdown",
   "id": "fa2a9f38",
   "metadata": {},
   "source": [
    "### Method 1"
   ]
  },
  {
   "cell_type": "code",
   "execution_count": 23,
   "id": "fbdf02b7",
   "metadata": {},
   "outputs": [
    {
     "name": "stdout",
     "output_type": "stream",
     "text": [
      "The original list is : [1, 3, 5, 6, 3, 5, 6, 1]\n",
      "The list after removing duplicates : [1, 3, 5, 6]\n"
     ]
    }
   ],
   "source": [
    "# removing duplicated from list \n",
    "# using list comprehension\n",
    "  \n",
    "# initializing list\n",
    "test_list = [1, 3, 5, 6, 3, 5, 6, 1]\n",
    "print (\"The original list is : \" +  str(test_list))\n",
    "  \n",
    "# using list comprehension\n",
    "# to remove duplicated \n",
    "# from list \n",
    "res = []\n",
    "[res.append(x) for x in test_list if x not in res]\n",
    "\n",
    "# printing list after removal \n",
    "print (\"The list after removing duplicates : \" + str(res))"
   ]
  },
  {
   "cell_type": "markdown",
   "id": "9503dca5",
   "metadata": {},
   "source": [
    "### Method 2 （Using set()）"
   ]
  },
  {
   "cell_type": "code",
   "execution_count": 26,
   "id": "bf5fc223",
   "metadata": {},
   "outputs": [
    {
     "name": "stdout",
     "output_type": "stream",
     "text": [
      "The original list is : [1, 5, 3, 6, 3, 5, 6, 1]\n",
      "{1, 3, 5, 6}\n",
      "<class 'set'>\n",
      "The list after removing duplicates : [1, 3, 5, 6]\n"
     ]
    }
   ],
   "source": [
    "# removing duplicated from list \n",
    "# using set()\n",
    "  \n",
    "# initializing list\n",
    "test_list = [1, 5, 3, 6, 3, 5, 6, 1]\n",
    "print (\"The original list is : \" +  str(test_list))\n",
    "  \n",
    "# using set()\n",
    "# to remove duplicated \n",
    "# from list \n",
    "test_list = list(set(test_list))\n",
    "print(set(test_list))\n",
    "print(type(set(test_list)))\n",
    "\n",
    "# printing list after removal \n",
    "# distorted ordering\n",
    "print (\"The list after removing duplicates : \" + str(test_list))"
   ]
  },
  {
   "cell_type": "markdown",
   "id": "be959829",
   "metadata": {},
   "source": [
    "## 4. 🌶️\n",
    "Next to the Blackjack table, the Python Challenge Casino has a slot machine. You can get a result from the slot machine by calling play_slot_machine(). The number it returns is your winnings in dollars. Usually it returns 0. But sometimes you'll get lucky and get a big payday. Try running it below:"
   ]
  },
  {
   "cell_type": "markdown",
   "id": "db5dd763",
   "metadata": {},
   "source": [
    "By the way, did we mention that each play costs $1? Don't worry, we'll send you the bill later.\n",
    "\n",
    "On average, how much money can you expect to gain (or lose) every time you play the machine? The casino keeps it a secret, but you can estimate the average value of each pull using a technique called the **Monte Carlo method**. To estimate the average outcome, we simulate the scenario many times, and return the average result.\n",
    "\n",
    "Complete the following function to calculate the average value per play of the slot machine."
   ]
  },
  {
   "cell_type": "markdown",
   "id": "031ddb04",
   "metadata": {},
   "source": []
  },
  {
   "cell_type": "code",
   "execution_count": null,
   "id": "8b1c006b",
   "metadata": {},
   "outputs": [],
   "source": [
    "def estimate_average_slot_payout(n_runs):\n",
    "    \"\"\"Run the slot machine n_runs times and return the average net profit per run.\n",
    "    Example calls (note that return value is nondeterministic!):\n",
    "    >>> estimate_average_slot_payout(1)\n",
    "    -1\n",
    "    >>> estimate_average_slot_payout(1)\n",
    "    0.5\n",
    "    \"\"\"\n",
    "    sum=0\n",
    "    for i in range(0,n_runs):\n",
    "        sum=sum+play_slot_machine()\n",
    "        print(sum)\n",
    "        \n",
    "    return sum/n_runs\n",
    "\n",
    "\n",
    "estimate_average_slot_payout(2)"
   ]
  },
  {
   "cell_type": "markdown",
   "id": "5710c284",
   "metadata": {},
   "source": []
  }
 ],
 "metadata": {
  "kernelspec": {
   "display_name": "Python 3 (ipykernel)",
   "language": "python",
   "name": "python3"
  },
  "language_info": {
   "codemirror_mode": {
    "name": "ipython",
    "version": 3
   },
   "file_extension": ".py",
   "mimetype": "text/x-python",
   "name": "python",
   "nbconvert_exporter": "python",
   "pygments_lexer": "ipython3",
   "version": "3.7.10"
  }
 },
 "nbformat": 4,
 "nbformat_minor": 5
}
